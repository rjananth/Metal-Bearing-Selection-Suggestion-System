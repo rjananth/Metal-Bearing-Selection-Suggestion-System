{
 "cells": [
  {
   "cell_type": "code",
   "execution_count": 1,
   "metadata": {},
   "outputs": [
    {
     "name": "stdout",
     "output_type": "stream",
     "text": [
      "prajit\n",
      "kannan\n",
      "100\n",
      "60\n"
     ]
    }
   ],
   "source": [
    "print(\"prajit\")\n",
    "print(\"kannan\")\n",
    "a=20\n",
    "b=80\n",
    "print(a+b)\n",
    "print(b-a)\n",
    "\n"
   ]
  }
 ],
 "metadata": {
  "kernelspec": {
   "display_name": "Python 3",
   "language": "python",
   "name": "python3"
  },
  "language_info": {
   "codemirror_mode": {
    "name": "ipython",
    "version": 3
   },
   "file_extension": ".py",
   "mimetype": "text/x-python",
   "name": "python",
   "nbconvert_exporter": "python",
   "pygments_lexer": "ipython3",
   "version": "3.11.8"
  }
 },
 "nbformat": 4,
 "nbformat_minor": 2
}
